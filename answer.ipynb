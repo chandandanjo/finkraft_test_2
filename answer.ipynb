{
 "cells": [
  {
   "cell_type": "code",
   "execution_count": 1,
   "metadata": {},
   "outputs": [],
   "source": [
    "import pandas as pd"
   ]
  },
  {
   "cell_type": "code",
   "execution_count": 2,
   "metadata": {},
   "outputs": [],
   "source": [
    "df = pd.read_csv('output.csv')"
   ]
  },
  {
   "cell_type": "code",
   "execution_count": 15,
   "metadata": {},
   "outputs": [
    {
     "data": {
      "text/html": [
       "<div>\n",
       "<style scoped>\n",
       "    .dataframe tbody tr th:only-of-type {\n",
       "        vertical-align: middle;\n",
       "    }\n",
       "\n",
       "    .dataframe tbody tr th {\n",
       "        vertical-align: top;\n",
       "    }\n",
       "\n",
       "    .dataframe thead th {\n",
       "        text-align: right;\n",
       "    }\n",
       "</style>\n",
       "<table border=\"1\" class=\"dataframe\">\n",
       "  <thead>\n",
       "    <tr style=\"text-align: right;\">\n",
       "      <th></th>\n",
       "      <th>name</th>\n",
       "      <th>price</th>\n",
       "      <th>ratedBy</th>\n",
       "      <th>price_isTo_ratedBy</th>\n",
       "    </tr>\n",
       "  </thead>\n",
       "  <tbody>\n",
       "    <tr>\n",
       "      <th>0</th>\n",
       "      <td>Nykaa Cosmetics Matte Tattoo Lip Colour</td>\n",
       "      <td>809</td>\n",
       "      <td>5</td>\n",
       "      <td>0.006180</td>\n",
       "    </tr>\n",
       "    <tr>\n",
       "      <th>1</th>\n",
       "      <td>Nykaa SkinShield Anti-Pollution Matte Foundation</td>\n",
       "      <td>479</td>\n",
       "      <td>6280</td>\n",
       "      <td>13.110647</td>\n",
       "    </tr>\n",
       "    <tr>\n",
       "      <th>2</th>\n",
       "      <td>Nykaa Eyes On Me! 10-in-1 Eyeshadow Palette</td>\n",
       "      <td>479</td>\n",
       "      <td>22201</td>\n",
       "      <td>46.348643</td>\n",
       "    </tr>\n",
       "    <tr>\n",
       "      <th>3</th>\n",
       "      <td>Nykaa Matte to Last! Transfer Proof Liquid Lip...</td>\n",
       "      <td>519</td>\n",
       "      <td>38146</td>\n",
       "      <td>73.499037</td>\n",
       "    </tr>\n",
       "    <tr>\n",
       "      <th>4</th>\n",
       "      <td>Nykaa Nail Enamel</td>\n",
       "      <td>113</td>\n",
       "      <td>62888</td>\n",
       "      <td>556.530973</td>\n",
       "    </tr>\n",
       "  </tbody>\n",
       "</table>\n",
       "</div>"
      ],
      "text/plain": [
       "                                                name  price  ratedBy  \\\n",
       "0            Nykaa Cosmetics Matte Tattoo Lip Colour    809        5   \n",
       "1   Nykaa SkinShield Anti-Pollution Matte Foundation    479     6280   \n",
       "2        Nykaa Eyes On Me! 10-in-1 Eyeshadow Palette    479    22201   \n",
       "3  Nykaa Matte to Last! Transfer Proof Liquid Lip...    519    38146   \n",
       "4                                  Nykaa Nail Enamel    113    62888   \n",
       "\n",
       "   price_isTo_ratedBy  \n",
       "0            0.006180  \n",
       "1           13.110647  \n",
       "2           46.348643  \n",
       "3           73.499037  \n",
       "4          556.530973  "
      ]
     },
     "execution_count": 15,
     "metadata": {},
     "output_type": "execute_result"
    }
   ],
   "source": [
    "df.head()"
   ]
  },
  {
   "cell_type": "code",
   "execution_count": 3,
   "metadata": {},
   "outputs": [],
   "source": [
    "df['price'] = df['price'].apply(lambda x: x.replace('₹', ''))"
   ]
  },
  {
   "cell_type": "code",
   "execution_count": 4,
   "metadata": {},
   "outputs": [],
   "source": [
    "df['ratedBy'] = df['ratedBy'].apply(lambda x: x.replace('(', '').replace(')', ''))"
   ]
  },
  {
   "cell_type": "code",
   "execution_count": 5,
   "metadata": {},
   "outputs": [],
   "source": [
    "df[\"price\"] = pd.to_numeric(df[\"price\"])"
   ]
  },
  {
   "cell_type": "code",
   "execution_count": 6,
   "metadata": {},
   "outputs": [],
   "source": [
    "df[\"ratedBy\"] = pd.to_numeric(df[\"ratedBy\"])"
   ]
  },
  {
   "cell_type": "code",
   "execution_count": 14,
   "metadata": {},
   "outputs": [],
   "source": [
    "df[\"price_isTo_ratedBy\"] = df['ratedBy']/df['price']"
   ]
  },
  {
   "cell_type": "code",
   "execution_count": 16,
   "metadata": {},
   "outputs": [
    {
     "name": "stdout",
     "output_type": "stream",
     "text": [
      "<class 'pandas.core.frame.DataFrame'>\n",
      "RangeIndex: 280 entries, 0 to 279\n",
      "Data columns (total 4 columns):\n",
      " #   Column              Non-Null Count  Dtype  \n",
      "---  ------              --------------  -----  \n",
      " 0   name                280 non-null    object \n",
      " 1   price               280 non-null    int64  \n",
      " 2   ratedBy             280 non-null    int64  \n",
      " 3   price_isTo_ratedBy  280 non-null    float64\n",
      "dtypes: float64(1), int64(2), object(1)\n",
      "memory usage: 8.9+ KB\n"
     ]
    }
   ],
   "source": [
    "df.info()"
   ]
  },
  {
   "cell_type": "code",
   "execution_count": 11,
   "metadata": {},
   "outputs": [
    {
     "name": "stdout",
     "output_type": "stream",
     "text": [
      "average number of peoples rating a product : 22208 (based on sample size : 280 products)\n"
     ]
    }
   ],
   "source": [
    "# avg people rating each product\n",
    "avg_raters = df['ratedBy'].sum() // len(df)\n",
    "print(f\"average number of peoples rating a product : {avg_raters} (based on sample size : {len(df)} products)\")"
   ]
  },
  {
   "cell_type": "code",
   "execution_count": 18,
   "metadata": {},
   "outputs": [
    {
     "data": {
      "text/html": [
       "<div>\n",
       "<style scoped>\n",
       "    .dataframe tbody tr th:only-of-type {\n",
       "        vertical-align: middle;\n",
       "    }\n",
       "\n",
       "    .dataframe tbody tr th {\n",
       "        vertical-align: top;\n",
       "    }\n",
       "\n",
       "    .dataframe thead th {\n",
       "        text-align: right;\n",
       "    }\n",
       "</style>\n",
       "<table border=\"1\" class=\"dataframe\">\n",
       "  <thead>\n",
       "    <tr style=\"text-align: right;\">\n",
       "      <th></th>\n",
       "      <th>name</th>\n",
       "      <th>price</th>\n",
       "      <th>ratedBy</th>\n",
       "      <th>price_isTo_ratedBy</th>\n",
       "    </tr>\n",
       "  </thead>\n",
       "  <tbody>\n",
       "    <tr>\n",
       "      <th>4</th>\n",
       "      <td>Nykaa Nail Enamel</td>\n",
       "      <td>113</td>\n",
       "      <td>62888</td>\n",
       "      <td>556.530973</td>\n",
       "    </tr>\n",
       "  </tbody>\n",
       "</table>\n",
       "</div>"
      ],
      "text/plain": [
       "                name  price  ratedBy  price_isTo_ratedBy\n",
       "4  Nykaa Nail Enamel    113    62888          556.530973"
      ]
     },
     "execution_count": 18,
     "metadata": {},
     "output_type": "execute_result"
    }
   ],
   "source": [
    "# Most number of people rated following product with respective price.\n",
    "df.loc[df[\"price_isTo_ratedBy\"] == df[\"price_isTo_ratedBy\"].max()]"
   ]
  }
 ],
 "metadata": {
  "kernelspec": {
   "display_name": "Python 3",
   "language": "python",
   "name": "python3"
  },
  "language_info": {
   "codemirror_mode": {
    "name": "ipython",
    "version": 3
   },
   "file_extension": ".py",
   "mimetype": "text/x-python",
   "name": "python",
   "nbconvert_exporter": "python",
   "pygments_lexer": "ipython3",
   "version": "3.9.2"
  },
  "orig_nbformat": 4,
  "vscode": {
   "interpreter": {
    "hash": "fa9ed4315b28fb84011b7b5532256cf3b2534885dbafc8d90f62e8fb4702b46f"
   }
  }
 },
 "nbformat": 4,
 "nbformat_minor": 2
}
